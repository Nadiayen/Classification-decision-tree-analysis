{
 "cells": [
  {
   "cell_type": "markdown",
   "metadata": {
    "id": "H41T4e8cfSkT"
   },
   "source": [
    "## Q1: Read in the data and review the non-binary variables to see if any are skewed and need to be transformed. If so, transform them and drop the non-transformed versions of the variables. Make sure that you do not include the customer identifier id in your calculations. Explain what you found, what transformations you applied, and why."
   ]
  },
  {
   "cell_type": "markdown",
   "metadata": {
    "id": "Hi76j3UefSkZ"
   },
   "source": [
    "1. Import Libraries to be used in this homework."
   ]
  },
  {
   "cell_type": "code",
   "execution_count": 1,
   "metadata": {
    "id": "Iaw27lmQfSkb"
   },
   "outputs": [],
   "source": [
    "import pandas as pd\n",
    "import os\n",
    "import numpy as np\n",
    "from sklearn.model_selection import KFold, cross_val_score\n",
    "from sklearn import linear_model\n",
    "import matplotlib.pyplot as plt\n",
    "%matplotlib inline\n",
    "from sklearn.preprocessing import LabelEncoder\n",
    "from sklearn.model_selection import train_test_split\n",
    "from sklearn.tree import DecisionTreeClassifier\n",
    "from sklearn.metrics import classification_report, confusion_matrix, accuracy_score\n",
    "from sklearn.tree import plot_tree\n",
    "from sklearn.ensemble import RandomForestClassifier\n",
    "from sklearn.neighbors import KNeighborsClassifier\n",
    "from sklearn import model_selection\n",
    "from sklearn.linear_model import LogisticRegression"
   ]
  },
  {
   "cell_type": "markdown",
   "metadata": {
    "id": "U7-VWb8yfSkd"
   },
   "source": [
    "2. Read in the dataset."
   ]
  },
  {
   "cell_type": "code",
   "execution_count": 60,
   "metadata": {
    "colab": {
     "base_uri": "https://localhost:8080/",
     "height": 424
    },
    "id": "iQvh7XopfSkd",
    "outputId": "7f9785a3-de1f-4dbd-9e08-25a317d7befe"
   },
   "outputs": [
    {
     "data": {
      "text/html": [
       "<div>\n",
       "<style scoped>\n",
       "    .dataframe tbody tr th:only-of-type {\n",
       "        vertical-align: middle;\n",
       "    }\n",
       "\n",
       "    .dataframe tbody tr th {\n",
       "        vertical-align: top;\n",
       "    }\n",
       "\n",
       "    .dataframe thead th {\n",
       "        text-align: right;\n",
       "    }\n",
       "</style>\n",
       "<table border=\"1\" class=\"dataframe\">\n",
       "  <thead>\n",
       "    <tr style=\"text-align: right;\">\n",
       "      <th></th>\n",
       "      <th>id</th>\n",
       "      <th>n24</th>\n",
       "      <th>rev24</th>\n",
       "      <th>revlast</th>\n",
       "      <th>elpsdm</th>\n",
       "      <th>ordfreq</th>\n",
       "      <th>ordcat</th>\n",
       "      <th>response</th>\n",
       "    </tr>\n",
       "  </thead>\n",
       "  <tbody>\n",
       "    <tr>\n",
       "      <th>0</th>\n",
       "      <td>1</td>\n",
       "      <td>2</td>\n",
       "      <td>30.0</td>\n",
       "      <td>20.0</td>\n",
       "      <td>24</td>\n",
       "      <td>1</td>\n",
       "      <td>6</td>\n",
       "      <td>1</td>\n",
       "    </tr>\n",
       "    <tr>\n",
       "      <th>1</th>\n",
       "      <td>2</td>\n",
       "      <td>25</td>\n",
       "      <td>207.0</td>\n",
       "      <td>20.0</td>\n",
       "      <td>24</td>\n",
       "      <td>1</td>\n",
       "      <td>6</td>\n",
       "      <td>0</td>\n",
       "    </tr>\n",
       "    <tr>\n",
       "      <th>2</th>\n",
       "      <td>3</td>\n",
       "      <td>5</td>\n",
       "      <td>52.0</td>\n",
       "      <td>15.0</td>\n",
       "      <td>24</td>\n",
       "      <td>1</td>\n",
       "      <td>6</td>\n",
       "      <td>0</td>\n",
       "    </tr>\n",
       "    <tr>\n",
       "      <th>3</th>\n",
       "      <td>4</td>\n",
       "      <td>11</td>\n",
       "      <td>105.0</td>\n",
       "      <td>15.0</td>\n",
       "      <td>24</td>\n",
       "      <td>1</td>\n",
       "      <td>6</td>\n",
       "      <td>0</td>\n",
       "    </tr>\n",
       "    <tr>\n",
       "      <th>4</th>\n",
       "      <td>5</td>\n",
       "      <td>2</td>\n",
       "      <td>32.0</td>\n",
       "      <td>17.0</td>\n",
       "      <td>24</td>\n",
       "      <td>1</td>\n",
       "      <td>6</td>\n",
       "      <td>0</td>\n",
       "    </tr>\n",
       "    <tr>\n",
       "      <th>...</th>\n",
       "      <td>...</td>\n",
       "      <td>...</td>\n",
       "      <td>...</td>\n",
       "      <td>...</td>\n",
       "      <td>...</td>\n",
       "      <td>...</td>\n",
       "      <td>...</td>\n",
       "      <td>...</td>\n",
       "    </tr>\n",
       "    <tr>\n",
       "      <th>1995</th>\n",
       "      <td>1996</td>\n",
       "      <td>12</td>\n",
       "      <td>105.0</td>\n",
       "      <td>20.0</td>\n",
       "      <td>1</td>\n",
       "      <td>2</td>\n",
       "      <td>6</td>\n",
       "      <td>0</td>\n",
       "    </tr>\n",
       "    <tr>\n",
       "      <th>1996</th>\n",
       "      <td>1997</td>\n",
       "      <td>36</td>\n",
       "      <td>786.0</td>\n",
       "      <td>5.0</td>\n",
       "      <td>1</td>\n",
       "      <td>2</td>\n",
       "      <td>6</td>\n",
       "      <td>0</td>\n",
       "    </tr>\n",
       "    <tr>\n",
       "      <th>1997</th>\n",
       "      <td>1998</td>\n",
       "      <td>7</td>\n",
       "      <td>415.0</td>\n",
       "      <td>100.0</td>\n",
       "      <td>1</td>\n",
       "      <td>1</td>\n",
       "      <td>7</td>\n",
       "      <td>0</td>\n",
       "    </tr>\n",
       "    <tr>\n",
       "      <th>1998</th>\n",
       "      <td>1999</td>\n",
       "      <td>5</td>\n",
       "      <td>77.0</td>\n",
       "      <td>25.0</td>\n",
       "      <td>1</td>\n",
       "      <td>1</td>\n",
       "      <td>7</td>\n",
       "      <td>0</td>\n",
       "    </tr>\n",
       "    <tr>\n",
       "      <th>1999</th>\n",
       "      <td>2000</td>\n",
       "      <td>34</td>\n",
       "      <td>469.0</td>\n",
       "      <td>31.0</td>\n",
       "      <td>1</td>\n",
       "      <td>1</td>\n",
       "      <td>6</td>\n",
       "      <td>0</td>\n",
       "    </tr>\n",
       "  </tbody>\n",
       "</table>\n",
       "<p>2000 rows × 8 columns</p>\n",
       "</div>"
      ],
      "text/plain": [
       "        id  n24  rev24  revlast  elpsdm  ordfreq  ordcat  response\n",
       "0        1    2   30.0     20.0      24        1       6         1\n",
       "1        2   25  207.0     20.0      24        1       6         0\n",
       "2        3    5   52.0     15.0      24        1       6         0\n",
       "3        4   11  105.0     15.0      24        1       6         0\n",
       "4        5    2   32.0     17.0      24        1       6         0\n",
       "...    ...  ...    ...      ...     ...      ...     ...       ...\n",
       "1995  1996   12  105.0     20.0       1        2       6         0\n",
       "1996  1997   36  786.0      5.0       1        2       6         0\n",
       "1997  1998    7  415.0    100.0       1        1       7         0\n",
       "1998  1999    5   77.0     25.0       1        1       7         0\n",
       "1999  2000   34  469.0     31.0       1        1       6         0\n",
       "\n",
       "[2000 rows x 8 columns]"
      ]
     },
     "execution_count": 60,
     "metadata": {},
     "output_type": "execute_result"
    }
   ],
   "source": [
    "lr = pd.read_csv('dmtrain.csv')\n",
    "lr"
   ]
  },
  {
   "cell_type": "markdown",
   "metadata": {
    "id": "PwchbYdNfSkf"
   },
   "source": [
    "3. Create histograms to explore the distribution of the variables: \n",
    " - n24\n",
    " - rev24\n",
    " - revlast\n",
    " - elpsdm\n",
    " - ordfreq\n",
    " - ordcat\n",
    " - response"
   ]
  },
  {
   "cell_type": "code",
   "execution_count": 3,
   "metadata": {
    "colab": {
     "base_uri": "https://localhost:8080/",
     "height": 897
    },
    "id": "m33qoKFpfSkg",
    "outputId": "336365d2-6085-44ff-fb18-d7614ba854c0"
   },
   "outputs": [
    {
     "data": {
      "text/plain": [
       "Text(0.5, 1.0, 'ordcat')"
      ]
     },
     "execution_count": 3,
     "metadata": {},
     "output_type": "execute_result"
    },
    {
     "data": {
      "image/png": "[encoded data removed]",
      "text/plain": [
       "<Figure size 1080x1080 with 6 Axes>"
      ]
     },
     "metadata": {
      "needs_background": "light"
     },
     "output_type": "display_data"
    }
   ],
   "source": [
    "fig, axs = plt.subplots(2, 3, figsize=(15, 15), sharey=True)\n",
    "#place each histogram, with corresponding titles.\n",
    "axs[0,0].hist(lr['n24'])\n",
    "axs[0,0].set_title(\"n24\")\n",
    "axs[0,1].hist(lr['rev24'])\n",
    "axs[0,1].set_title(\"rev24\")\n",
    "axs[0,2].hist(lr['revlast'])\n",
    "axs[0,2].set_title(\"revlast\")\n",
    "axs[1,0].hist(lr['elpsdm'])\n",
    "axs[1,0].set_title(\"elpsdm\")\n",
    "axs[1,1].hist(lr['ordfreq'])\n",
    "axs[1,1].set_title(\"ordfreq\")\n",
    "axs[1,2].hist(lr['ordcat'])\n",
    "axs[1,2].set_title(\"ordcat\")"
   ]
  },
  {
   "cell_type": "markdown",
   "metadata": {
    "id": "hxAEYVskfSkh"
   },
   "source": [
    "We found that n24, rev24, revlast and ordfreq were all right skewed. \n",
    "However, before we apply a log transformation to the variables, we must take an extra step. \n",
    "Since revlast has rows with values = 0, log transforming them will take those values to infinity. Hence, we will remove those rows before transforming. "
   ]
  },
  {
   "cell_type": "markdown",
   "metadata": {
    "id": "cegjrjDIfSkh"
   },
   "source": [
    "3. We will now apply a log transformation to each of the skewed variables. "
   ]
  },
  {
   "cell_type": "code",
   "execution_count": 4,
   "metadata": {
    "colab": {
     "base_uri": "https://localhost:8080/"
    },
    "id": "jhvjcbzhfSki",
    "outputId": "67bf6278-463c-4d42-9494-d3949bbb23db"
   },
   "outputs": [
    {
     "name": "stderr",
     "output_type": "stream",
     "text": [
      "/opt/anaconda3/lib/python3.8/site-packages/pandas/core/series.py:679: RuntimeWarning: divide by zero encountered in log\n",
      "  result = getattr(ufunc, method)(*inputs, **kwargs)\n"
     ]
    }
   ],
   "source": [
    "#create a copy of our data to write over the skewed variables.\n",
    "log_lr=lr.copy()\n",
    "#log transform each variable and use their transformed versions to replace \n",
    "#their skewed counterparts\n",
    "log_lr['n24'] = np.log(log_lr['n24'])\n",
    "log_lr['rev24'] = np.log(log_lr['rev24'])\n",
    "log_lr['revlast'] = np.log(log_lr['revlast'])\n",
    "log_lr['ordfreq'] = np.log(log_lr['ordfreq'])"
   ]
  },
  {
   "cell_type": "code",
   "execution_count": 5,
   "metadata": {
    "id": "PPPKLEe8fSkj"
   },
   "outputs": [],
   "source": [
    "log_lr = log_lr[np.isfinite(log_lr).all(1)]"
   ]
  },
  {
   "cell_type": "code",
   "execution_count": 6,
   "metadata": {
    "colab": {
     "base_uri": "https://localhost:8080/",
     "height": 424
    },
    "id": "3vF-a4U2fSkj",
    "outputId": "0e03bd3f-80ff-4966-ac70-9340f96af9dd"
   },
   "outputs": [
    {
     "data": {
      "text/html": [
       "<div>\n",
       "<style scoped>\n",
       "    .dataframe tbody tr th:only-of-type {\n",
       "        vertical-align: middle;\n",
       "    }\n",
       "\n",
       "    .dataframe tbody tr th {\n",
       "        vertical-align: top;\n",
       "    }\n",
       "\n",
       "    .dataframe thead th {\n",
       "        text-align: right;\n",
       "    }\n",
       "</style>\n",
       "<table border=\"1\" class=\"dataframe\">\n",
       "  <thead>\n",
       "    <tr style=\"text-align: right;\">\n",
       "      <th></th>\n",
       "      <th>index</th>\n",
       "      <th>id</th>\n",
       "      <th>n24</th>\n",
       "      <th>rev24</th>\n",
       "      <th>revlast</th>\n",
       "      <th>elpsdm</th>\n",
       "      <th>ordfreq</th>\n",
       "      <th>ordcat</th>\n",
       "      <th>response</th>\n",
       "    </tr>\n",
       "  </thead>\n",
       "  <tbody>\n",
       "    <tr>\n",
       "      <th>0</th>\n",
       "      <td>0</td>\n",
       "      <td>1</td>\n",
       "      <td>0.693147</td>\n",
       "      <td>3.401197</td>\n",
       "      <td>2.995732</td>\n",
       "      <td>24</td>\n",
       "      <td>0.000000</td>\n",
       "      <td>6</td>\n",
       "      <td>1</td>\n",
       "    </tr>\n",
       "    <tr>\n",
       "      <th>1</th>\n",
       "      <td>1</td>\n",
       "      <td>2</td>\n",
       "      <td>3.218876</td>\n",
       "      <td>5.332719</td>\n",
       "      <td>2.995732</td>\n",
       "      <td>24</td>\n",
       "      <td>0.000000</td>\n",
       "      <td>6</td>\n",
       "      <td>0</td>\n",
       "    </tr>\n",
       "    <tr>\n",
       "      <th>2</th>\n",
       "      <td>2</td>\n",
       "      <td>3</td>\n",
       "      <td>1.609438</td>\n",
       "      <td>3.951244</td>\n",
       "      <td>2.708050</td>\n",
       "      <td>24</td>\n",
       "      <td>0.000000</td>\n",
       "      <td>6</td>\n",
       "      <td>0</td>\n",
       "    </tr>\n",
       "    <tr>\n",
       "      <th>3</th>\n",
       "      <td>3</td>\n",
       "      <td>4</td>\n",
       "      <td>2.397895</td>\n",
       "      <td>4.653960</td>\n",
       "      <td>2.708050</td>\n",
       "      <td>24</td>\n",
       "      <td>0.000000</td>\n",
       "      <td>6</td>\n",
       "      <td>0</td>\n",
       "    </tr>\n",
       "    <tr>\n",
       "      <th>4</th>\n",
       "      <td>4</td>\n",
       "      <td>5</td>\n",
       "      <td>0.693147</td>\n",
       "      <td>3.465736</td>\n",
       "      <td>2.833213</td>\n",
       "      <td>24</td>\n",
       "      <td>0.000000</td>\n",
       "      <td>6</td>\n",
       "      <td>0</td>\n",
       "    </tr>\n",
       "    <tr>\n",
       "      <th>...</th>\n",
       "      <td>...</td>\n",
       "      <td>...</td>\n",
       "      <td>...</td>\n",
       "      <td>...</td>\n",
       "      <td>...</td>\n",
       "      <td>...</td>\n",
       "      <td>...</td>\n",
       "      <td>...</td>\n",
       "      <td>...</td>\n",
       "    </tr>\n",
       "    <tr>\n",
       "      <th>1987</th>\n",
       "      <td>1995</td>\n",
       "      <td>1996</td>\n",
       "      <td>2.484907</td>\n",
       "      <td>4.653960</td>\n",
       "      <td>2.995732</td>\n",
       "      <td>1</td>\n",
       "      <td>0.693147</td>\n",
       "      <td>6</td>\n",
       "      <td>0</td>\n",
       "    </tr>\n",
       "    <tr>\n",
       "      <th>1988</th>\n",
       "      <td>1996</td>\n",
       "      <td>1997</td>\n",
       "      <td>3.583519</td>\n",
       "      <td>6.666957</td>\n",
       "      <td>1.609438</td>\n",
       "      <td>1</td>\n",
       "      <td>0.693147</td>\n",
       "      <td>6</td>\n",
       "      <td>0</td>\n",
       "    </tr>\n",
       "    <tr>\n",
       "      <th>1989</th>\n",
       "      <td>1997</td>\n",
       "      <td>1998</td>\n",
       "      <td>1.945910</td>\n",
       "      <td>6.028279</td>\n",
       "      <td>4.605170</td>\n",
       "      <td>1</td>\n",
       "      <td>0.000000</td>\n",
       "      <td>7</td>\n",
       "      <td>0</td>\n",
       "    </tr>\n",
       "    <tr>\n",
       "      <th>1990</th>\n",
       "      <td>1998</td>\n",
       "      <td>1999</td>\n",
       "      <td>1.609438</td>\n",
       "      <td>4.343805</td>\n",
       "      <td>3.218876</td>\n",
       "      <td>1</td>\n",
       "      <td>0.000000</td>\n",
       "      <td>7</td>\n",
       "      <td>0</td>\n",
       "    </tr>\n",
       "    <tr>\n",
       "      <th>1991</th>\n",
       "      <td>1999</td>\n",
       "      <td>2000</td>\n",
       "      <td>3.526361</td>\n",
       "      <td>6.150603</td>\n",
       "      <td>3.433987</td>\n",
       "      <td>1</td>\n",
       "      <td>0.000000</td>\n",
       "      <td>6</td>\n",
       "      <td>0</td>\n",
       "    </tr>\n",
       "  </tbody>\n",
       "</table>\n",
       "<p>1992 rows × 9 columns</p>\n",
       "</div>"
      ],
      "text/plain": [
       "      index    id       n24     rev24   revlast  elpsdm   ordfreq  ordcat  \\\n",
       "0         0     1  0.693147  3.401197  2.995732      24  0.000000       6   \n",
       "1         1     2  3.218876  5.332719  2.995732      24  0.000000       6   \n",
       "2         2     3  1.609438  3.951244  2.708050      24  0.000000       6   \n",
       "3         3     4  2.397895  4.653960  2.708050      24  0.000000       6   \n",
       "4         4     5  0.693147  3.465736  2.833213      24  0.000000       6   \n",
       "...     ...   ...       ...       ...       ...     ...       ...     ...   \n",
       "1987   1995  1996  2.484907  4.653960  2.995732       1  0.693147       6   \n",
       "1988   1996  1997  3.583519  6.666957  1.609438       1  0.693147       6   \n",
       "1989   1997  1998  1.945910  6.028279  4.605170       1  0.000000       7   \n",
       "1990   1998  1999  1.609438  4.343805  3.218876       1  0.000000       7   \n",
       "1991   1999  2000  3.526361  6.150603  3.433987       1  0.000000       6   \n",
       "\n",
       "      response  \n",
       "0            1  \n",
       "1            0  \n",
       "2            0  \n",
       "3            0  \n",
       "4            0  \n",
       "...        ...  \n",
       "1987         0  \n",
       "1988         0  \n",
       "1989         0  \n",
       "1990         0  \n",
       "1991         0  \n",
       "\n",
       "[1992 rows x 9 columns]"
      ]
     },
     "execution_count": 6,
     "metadata": {},
     "output_type": "execute_result"
    }
   ],
   "source": [
    "log_lr=log_lr.reset_index() \n",
    "log_lr"
   ]
  },
  {
   "cell_type": "code",
   "execution_count": 7,
   "metadata": {
    "colab": {
     "base_uri": "https://localhost:8080/",
     "height": 897
    },
    "id": "Y5tAvrjXfSkk",
    "outputId": "f2549f6e-4aeb-48d9-fcae-43e930041cfe"
   },
   "outputs": [
    {
     "data": {
      "text/plain": [
       "Text(0.5, 1.0, 'ordfreq log')"
      ]
     },
     "execution_count": 7,
     "metadata": {},
     "output_type": "execute_result"
    },
    {
     "data": {
      "image/png": "[encoded data removed]",
      "text/plain": [
       "<Figure size 1080x1080 with 4 Axes>"
      ]
     },
     "metadata": {
      "needs_background": "light"
     },
     "output_type": "display_data"
    }
   ],
   "source": [
    "fig, axs = plt.subplots(2, 2, figsize=(15, 15), sharey=True)\n",
    "axs[0,0].hist(log_lr['n24'])\n",
    "axs[0,0].set_title(\"n24 log\")\n",
    "axs[0,1].hist(log_lr['rev24'])\n",
    "axs[0,1].set_title(\"rev24 log\")\n",
    "axs[1,0].hist(log_lr['revlast'])\n",
    "axs[1,0].set_title(\"revlast log\")\n",
    "axs[1,1].hist(log_lr['ordfreq'])\n",
    "axs[1,1].set_title(\"ordfreq log\")"
   ]
  },
  {
   "cell_type": "markdown",
   "metadata": {
    "id": "pzsEcJHlfSkl"
   },
   "source": [
    "## Q2: Generate a decision tree on the entire dataset, without any limitations on the depth of the tree. Use entropy as the metric. What is the depth of the tree that is generated? Provide a plot of the tree."
   ]
  },
  {
   "cell_type": "markdown",
   "metadata": {
    "id": "Troecol5fSkm"
   },
   "source": [
    "1. Designate X and y"
   ]
  },
  {
   "cell_type": "code",
   "execution_count": 8,
   "metadata": {
    "id": "I0SAK9XhfSkm"
   },
   "outputs": [],
   "source": [
    "#we kept getting an error that values in our database were infinite. hence, we will only take finite values into consideration as seen below"
   ]
  },
  {
   "cell_type": "code",
   "execution_count": 9,
   "metadata": {
    "id": "YfBkY00pfSkm"
   },
   "outputs": [],
   "source": [
    "log_lr = log_lr[np.isfinite(log_lr).all(1)]"
   ]
  },
  {
   "cell_type": "code",
   "execution_count": 10,
   "metadata": {
    "colab": {
     "base_uri": "https://localhost:8080/",
     "height": 424
    },
    "id": "w6NG5GSUfSkn",
    "outputId": "4e8320c5-2c5c-4899-f0c0-57e8f4ca4682"
   },
   "outputs": [
    {
     "data": {
      "text/html": [
       "<div>\n",
       "<style scoped>\n",
       "    .dataframe tbody tr th:only-of-type {\n",
       "        vertical-align: middle;\n",
       "    }\n",
       "\n",
       "    .dataframe tbody tr th {\n",
       "        vertical-align: top;\n",
       "    }\n",
       "\n",
       "    .dataframe thead th {\n",
       "        text-align: right;\n",
       "    }\n",
       "</style>\n",
       "<table border=\"1\" class=\"dataframe\">\n",
       "  <thead>\n",
       "    <tr style=\"text-align: right;\">\n",
       "      <th></th>\n",
       "      <th>index</th>\n",
       "      <th>id</th>\n",
       "      <th>n24</th>\n",
       "      <th>rev24</th>\n",
       "      <th>revlast</th>\n",
       "      <th>elpsdm</th>\n",
       "      <th>ordfreq</th>\n",
       "      <th>ordcat</th>\n",
       "      <th>response</th>\n",
       "    </tr>\n",
       "  </thead>\n",
       "  <tbody>\n",
       "    <tr>\n",
       "      <th>0</th>\n",
       "      <td>0</td>\n",
       "      <td>1</td>\n",
       "      <td>0.693147</td>\n",
       "      <td>3.401197</td>\n",
       "      <td>2.995732</td>\n",
       "      <td>24</td>\n",
       "      <td>0.000000</td>\n",
       "      <td>6</td>\n",
       "      <td>1</td>\n",
       "    </tr>\n",
       "    <tr>\n",
       "      <th>1</th>\n",
       "      <td>1</td>\n",
       "      <td>2</td>\n",
       "      <td>3.218876</td>\n",
       "      <td>5.332719</td>\n",
       "      <td>2.995732</td>\n",
       "      <td>24</td>\n",
       "      <td>0.000000</td>\n",
       "      <td>6</td>\n",
       "      <td>0</td>\n",
       "    </tr>\n",
       "    <tr>\n",
       "      <th>2</th>\n",
       "      <td>2</td>\n",
       "      <td>3</td>\n",
       "      <td>1.609438</td>\n",
       "      <td>3.951244</td>\n",
       "      <td>2.708050</td>\n",
       "      <td>24</td>\n",
       "      <td>0.000000</td>\n",
       "      <td>6</td>\n",
       "      <td>0</td>\n",
       "    </tr>\n",
       "    <tr>\n",
       "      <th>3</th>\n",
       "      <td>3</td>\n",
       "      <td>4</td>\n",
       "      <td>2.397895</td>\n",
       "      <td>4.653960</td>\n",
       "      <td>2.708050</td>\n",
       "      <td>24</td>\n",
       "      <td>0.000000</td>\n",
       "      <td>6</td>\n",
       "      <td>0</td>\n",
       "    </tr>\n",
       "    <tr>\n",
       "      <th>4</th>\n",
       "      <td>4</td>\n",
       "      <td>5</td>\n",
       "      <td>0.693147</td>\n",
       "      <td>3.465736</td>\n",
       "      <td>2.833213</td>\n",
       "      <td>24</td>\n",
       "      <td>0.000000</td>\n",
       "      <td>6</td>\n",
       "      <td>0</td>\n",
       "    </tr>\n",
       "    <tr>\n",
       "      <th>...</th>\n",
       "      <td>...</td>\n",
       "      <td>...</td>\n",
       "      <td>...</td>\n",
       "      <td>...</td>\n",
       "      <td>...</td>\n",
       "      <td>...</td>\n",
       "      <td>...</td>\n",
       "      <td>...</td>\n",
       "      <td>...</td>\n",
       "    </tr>\n",
       "    <tr>\n",
       "      <th>1987</th>\n",
       "      <td>1995</td>\n",
       "      <td>1996</td>\n",
       "      <td>2.484907</td>\n",
       "      <td>4.653960</td>\n",
       "      <td>2.995732</td>\n",
       "      <td>1</td>\n",
       "      <td>0.693147</td>\n",
       "      <td>6</td>\n",
       "      <td>0</td>\n",
       "    </tr>\n",
       "    <tr>\n",
       "      <th>1988</th>\n",
       "      <td>1996</td>\n",
       "      <td>1997</td>\n",
       "      <td>3.583519</td>\n",
       "      <td>6.666957</td>\n",
       "      <td>1.609438</td>\n",
       "      <td>1</td>\n",
       "      <td>0.693147</td>\n",
       "      <td>6</td>\n",
       "      <td>0</td>\n",
       "    </tr>\n",
       "    <tr>\n",
       "      <th>1989</th>\n",
       "      <td>1997</td>\n",
       "      <td>1998</td>\n",
       "      <td>1.945910</td>\n",
       "      <td>6.028279</td>\n",
       "      <td>4.605170</td>\n",
       "      <td>1</td>\n",
       "      <td>0.000000</td>\n",
       "      <td>7</td>\n",
       "      <td>0</td>\n",
       "    </tr>\n",
       "    <tr>\n",
       "      <th>1990</th>\n",
       "      <td>1998</td>\n",
       "      <td>1999</td>\n",
       "      <td>1.609438</td>\n",
       "      <td>4.343805</td>\n",
       "      <td>3.218876</td>\n",
       "      <td>1</td>\n",
       "      <td>0.000000</td>\n",
       "      <td>7</td>\n",
       "      <td>0</td>\n",
       "    </tr>\n",
       "    <tr>\n",
       "      <th>1991</th>\n",
       "      <td>1999</td>\n",
       "      <td>2000</td>\n",
       "      <td>3.526361</td>\n",
       "      <td>6.150603</td>\n",
       "      <td>3.433987</td>\n",
       "      <td>1</td>\n",
       "      <td>0.000000</td>\n",
       "      <td>6</td>\n",
       "      <td>0</td>\n",
       "    </tr>\n",
       "  </tbody>\n",
       "</table>\n",
       "<p>1992 rows × 9 columns</p>\n",
       "</div>"
      ],
      "text/plain": [
       "      index    id       n24     rev24   revlast  elpsdm   ordfreq  ordcat  \\\n",
       "0         0     1  0.693147  3.401197  2.995732      24  0.000000       6   \n",
       "1         1     2  3.218876  5.332719  2.995732      24  0.000000       6   \n",
       "2         2     3  1.609438  3.951244  2.708050      24  0.000000       6   \n",
       "3         3     4  2.397895  4.653960  2.708050      24  0.000000       6   \n",
       "4         4     5  0.693147  3.465736  2.833213      24  0.000000       6   \n",
       "...     ...   ...       ...       ...       ...     ...       ...     ...   \n",
       "1987   1995  1996  2.484907  4.653960  2.995732       1  0.693147       6   \n",
       "1988   1996  1997  3.583519  6.666957  1.609438       1  0.693147       6   \n",
       "1989   1997  1998  1.945910  6.028279  4.605170       1  0.000000       7   \n",
       "1990   1998  1999  1.609438  4.343805  3.218876       1  0.000000       7   \n",
       "1991   1999  2000  3.526361  6.150603  3.433987       1  0.000000       6   \n",
       "\n",
       "      response  \n",
       "0            1  \n",
       "1            0  \n",
       "2            0  \n",
       "3            0  \n",
       "4            0  \n",
       "...        ...  \n",
       "1987         0  \n",
       "1988         0  \n",
       "1989         0  \n",
       "1990         0  \n",
       "1991         0  \n",
       "\n",
       "[1992 rows x 9 columns]"
      ]
     },
     "execution_count": 10,
     "metadata": {},
     "output_type": "execute_result"
    }
   ],
   "source": [
    "log_lr"
   ]
  },
  {
   "cell_type": "code",
   "execution_count": 139,
   "metadata": {
    "id": "KPbSf-pmfSko"
   },
   "outputs": [],
   "source": [
    "X = log_lr.copy()\n",
    "X= X.drop(['index'], axis=1)\n",
    "X = X.drop(['id','response'], axis = 1).to_numpy()\n",
    "y = log_lr['response'].to_numpy()"
   ]
  },
  {
   "cell_type": "code",
   "execution_count": 142,
   "metadata": {},
   "outputs": [
    {
     "data": {
      "text/plain": [
       "array([[ 0.69314718,  3.40119738,  2.99573227, 24.        ,  0.        ,\n",
       "         6.        ],\n",
       "       [ 3.21887582,  5.33271879,  2.99573227, 24.        ,  0.        ,\n",
       "         6.        ],\n",
       "       [ 1.60943791,  3.95124372,  2.7080502 , 24.        ,  0.        ,\n",
       "         6.        ],\n",
       "       ...,\n",
       "       [ 1.94591015,  6.02827852,  4.60517019,  1.        ,  0.        ,\n",
       "         7.        ],\n",
       "       [ 1.60943791,  4.34380542,  3.21887582,  1.        ,  0.        ,\n",
       "         7.        ],\n",
       "       [ 3.52636052,  6.15060277,  3.4339872 ,  1.        ,  0.        ,\n",
       "         6.        ]])"
      ]
     },
     "execution_count": 142,
     "metadata": {},
     "output_type": "execute_result"
    }
   ],
   "source": []
  },
  {
   "cell_type": "code",
   "execution_count": 12,
   "metadata": {
    "id": "0HpXG8YgfSko"
   },
   "outputs": [],
   "source": [
    "X_train, X_test, y_train, y_test = train_test_split(X, y, test_size = 0.2, random_state = 1)"
   ]
  },
  {
   "cell_type": "code",
   "execution_count": 13,
   "metadata": {
    "id": "ONFaQasRfSkp",
    "outputId": "54569b31-8125-4063-b3b7-24938dc2cf0b"
   },
   "outputs": [
    {
     "name": "stdout",
     "output_type": "stream",
     "text": [
      "Decision Tree Classifier Created\n"
     ]
    }
   ],
   "source": [
    "dtree=DecisionTreeClassifier(criterion = 'entropy')\n",
    "dtree.fit(X_train,y_train)\n",
    "print('Decision Tree Classifier Created')"
   ]
  },
  {
   "cell_type": "code",
   "execution_count": 14,
   "metadata": {
    "id": "6OuyRt8HfSkq",
    "outputId": "2824ecd5-7d0d-4af8-b320-41fa7c7b8f06"
   },
   "outputs": [
    {
     "data": {
      "text/plain": [
       "25"
      ]
     },
     "execution_count": 14,
     "metadata": {},
     "output_type": "execute_result"
    }
   ],
   "source": [
    "dtree.get_depth()"
   ]
  },
  {
   "cell_type": "code",
   "execution_count": 15,
   "metadata": {
    "id": "NlJaJyLRfSkr",
    "outputId": "f008ff6c-784a-4d08-99c6-13f5b1a8c876"
   },
   "outputs": [
    {
     "data": {
      "image/png": "[encoded data removed]",
      "text/plain": [
       "<Figure size 1440x1440 with 1 Axes>"
      ]
     },
     "metadata": {
      "needs_background": "light"
     },
     "output_type": "display_data"
    }
   ],
   "source": [
    "plt.figure(figsize = (20,20))\n",
    "dec_tree = plot_tree(decision_tree=dtree, feature_names = log_lr.columns, class_names = ['no', 'yes'],\n",
    "                     filled = True , rounded = True)"
   ]
  },
  {
   "cell_type": "markdown",
   "metadata": {
    "id": "Cb667RqtfSks"
   },
   "source": [
    "## Q3: We will focus on decision trees first, and try to identify the best decision tree classifier by pruning the tree at different depths. Use 10-fold cross validation and identify the best tree depth (again, using accuracy as the metric), by trying as many possible depths as you deem necessary. Provide your reasoning for using the values of tree-depth that you tried. Based on your results, what depth do you recommend? What is the accuracy associated with this tree depth? If you had to select the three best values of tree-depth, what would they be?"
   ]
  },
  {
   "cell_type": "markdown",
   "metadata": {
    "id": "yiGs3esSfSks"
   },
   "source": [
    "1. Specifying k-fold where k=10"
   ]
  },
  {
   "cell_type": "code",
   "execution_count": 16,
   "metadata": {
    "id": "qlMZKKksfSkt",
    "outputId": "80e01649-5487-4182-fcd3-ede514048ae1"
   },
   "outputs": [
    {
     "name": "stdout",
     "output_type": "stream",
     "text": [
      "KFold(n_splits=10, random_state=1, shuffle=True)\n"
     ]
    }
   ],
   "source": [
    "kf =KFold(n_splits=10, shuffle=True, random_state=1)\n",
    "print(kf)"
   ]
  },
  {
   "cell_type": "markdown",
   "metadata": {
    "id": "eX6ffyCHfSkt"
   },
   "source": [
    "2. Creating the decision tree models with different max_depth's and storing them in a dataframe"
   ]
  },
  {
   "cell_type": "code",
   "execution_count": 17,
   "metadata": {
    "id": "crWSbkDMfSku"
   },
   "outputs": [],
   "source": [
    "#create empty df for all different DT classifiers and their different tree depths\n",
    "modelsDT = []\n",
    "modelsDT.append(('DT20', DecisionTreeClassifier(criterion = 'entropy', max_depth = 20, random_state=1)))\n",
    "modelsDT.append(('DT19', DecisionTreeClassifier(criterion = 'entropy', max_depth = 19, random_state=1)))\n",
    "modelsDT.append(('DT18', DecisionTreeClassifier(criterion = 'entropy', max_depth = 18, random_state=1)))\n",
    "modelsDT.append(('DT17', DecisionTreeClassifier(criterion = 'entropy', max_depth = 17, random_state=1)))\n",
    "modelsDT.append(('DT16', DecisionTreeClassifier(criterion = 'entropy', max_depth = 16, random_state=1)))\n",
    "modelsDT.append(('DT15', DecisionTreeClassifier(criterion = 'entropy', max_depth = 15, random_state=1)))\n",
    "modelsDT.append(('DT14', DecisionTreeClassifier(criterion = 'entropy', max_depth = 14, random_state=1)))\n",
    "modelsDT.append(('DT13', DecisionTreeClassifier(criterion = 'entropy', max_depth = 13, random_state=1)))\n",
    "modelsDT.append(('DT12', DecisionTreeClassifier(criterion = 'entropy', max_depth = 12, random_state=1)))\n",
    "modelsDT.append(('DT11', DecisionTreeClassifier(criterion = 'entropy', max_depth = 11, random_state=1)))\n",
    "modelsDT.append(('DT10', DecisionTreeClassifier(criterion = 'entropy', max_depth = 10, random_state=1)))\n",
    "modelsDT.append(('DT9', DecisionTreeClassifier(criterion = 'entropy', max_depth = 9, random_state=1)))\n",
    "modelsDT.append(('DT8', DecisionTreeClassifier(criterion = 'entropy', max_depth = 8, random_state=1)))\n",
    "modelsDT.append(('DT7', DecisionTreeClassifier(criterion = 'entropy', max_depth = 7, random_state=1)))\n",
    "modelsDT.append(('DT6', DecisionTreeClassifier(criterion = 'entropy', max_depth = 6, random_state=1)))\n",
    "modelsDT.append(('DT5', DecisionTreeClassifier(criterion = 'entropy', max_depth = 5, random_state=1)))\n",
    "modelsDT.append(('DT4', DecisionTreeClassifier(criterion = 'entropy', max_depth = 4, random_state=1)))\n",
    "modelsDT.append(('DT3', DecisionTreeClassifier(criterion = 'entropy', max_depth = 3, random_state=1)))\n",
    "modelsDT.append(('DT2', DecisionTreeClassifier(criterion = 'entropy', max_depth = 2, random_state=1)))"
   ]
  },
  {
   "cell_type": "markdown",
   "metadata": {
    "id": "pAL6nct6fSku"
   },
   "source": [
    "3. Check accuracy in all DT models"
   ]
  },
  {
   "cell_type": "code",
   "execution_count": 18,
   "metadata": {
    "id": "htQWxPgxfSkv",
    "outputId": "dbe58c1d-3117-4d54-835b-d1da30e3e59f"
   },
   "outputs": [
    {
     "name": "stdout",
     "output_type": "stream",
     "text": [
      "DT20: 0.630224 (0.032649)\n",
      "DT19: 0.630865 (0.027744)\n",
      "DT18: 0.635263 (0.025717)\n",
      "DT17: 0.631486 (0.025202)\n",
      "DT16: 0.634650 (0.021739)\n",
      "DT15: 0.641533 (0.025502)\n",
      "DT14: 0.641545 (0.025372)\n",
      "DT13: 0.649741 (0.025212)\n",
      "DT12: 0.650350 (0.026439)\n",
      "DT11: 0.663538 (0.030830)\n",
      "DT10: 0.669182 (0.032979)\n",
      "DT9: 0.682976 (0.025325)\n",
      "DT8: 0.686753 (0.017406)\n",
      "DT7: 0.694921 (0.016305)\n",
      "DT6: 0.701832 (0.014127)\n",
      "DT5: 0.704344 (0.013301)\n",
      "DT4: 0.704969 (0.017116)\n",
      "DT3: 0.716266 (0.012323)\n",
      "DT2: 0.709379 (0.017275)\n"
     ]
    }
   ],
   "source": [
    "metric = 'accuracy'\n",
    "resultsA = []\n",
    "mIDsA = []\n",
    "for mID, mdl in modelsDT:\n",
    "    kf = model_selection.StratifiedKFold(n_splits=10)\n",
    "    cvres = model_selection.cross_val_score(mdl, X_train, y_train, cv=kf, scoring=metric)\n",
    "    resultsA.append(cvres)\n",
    "    mIDsA.append(mID)\n",
    "    print(\"%s: %3f (%3f)\" % (mID, cvres.mean(), cvres.std()))"
   ]
  },
  {
   "cell_type": "markdown",
   "metadata": {
    "id": "sZngJ0KXfSkv"
   },
   "source": [
    "4. create box plot to visualize results"
   ]
  },
  {
   "cell_type": "code",
   "execution_count": 19,
   "metadata": {
    "id": "mLFPk5qefSkw",
    "outputId": "2470d3f3-5e3b-474d-fa64-3ed1293a4973"
   },
   "outputs": [
    {
     "data": {
      "image/png": "[encoded data removed]",
      "text/plain": [
       "<Figure size 432x288 with 1 Axes>"
      ]
     },
     "metadata": {
      "needs_background": "light"
     },
     "output_type": "display_data"
    }
   ],
   "source": [
    "fig = plt.figure()\n",
    "fig.suptitle('Metric: Accuracy')\n",
    "ax = fig.add_subplot(1,1,1)\n",
    "plt.boxplot(resultsA)\n",
    "ax.set_xticklabels(mIDsA)\n",
    "plt.show()"
   ]
  },
  {
   "cell_type": "markdown",
   "metadata": {
    "id": "KSFKf6KkfSkw"
   },
   "source": [
    "## Q4: Next, we will consider random forests. Develop a random forest classifiers with 100 trees, using the three best values of tree-depth you identified in the previous question. Provide all relevant results. Which tree-depth results in the best random forest classifier? How does it perform relative to the best decision tree?"
   ]
  },
  {
   "cell_type": "code",
   "execution_count": 20,
   "metadata": {
    "id": "bsV07iewfSkx",
    "outputId": "268b865e-e9d1-4072-fbb8-adb420c4d678"
   },
   "outputs": [
    {
     "name": "stdout",
     "output_type": "stream",
     "text": [
      "Random Forest Classifier Created\n"
     ]
    }
   ],
   "source": [
    "rf=RandomForestClassifier(n_estimators = 100, criterion = 'entropy')\n",
    "rf.fit(X_train,y_train)\n",
    "print('Random Forest Classifier Created')"
   ]
  },
  {
   "cell_type": "code",
   "execution_count": 21,
   "metadata": {
    "id": "eExY5K7hfSkx"
   },
   "outputs": [],
   "source": [
    "#create empty df for all different DT classifiers and their different tree depths\n",
    "modelsRF = []\n",
    "modelsRF.append(('RF3', RandomForestClassifier(n_estimators = 100, criterion = 'entropy', max_depth = 3, random_state=1)))\n",
    "modelsRF.append(('RF2', RandomForestClassifier(n_estimators = 100, criterion = 'entropy', max_depth = 2, random_state=1)))\n",
    "modelsRF.append(('RF4', RandomForestClassifier(n_estimators = 100, criterion = 'entropy', max_depth = 4, random_state=1)))"
   ]
  },
  {
   "cell_type": "code",
   "execution_count": 22,
   "metadata": {
    "id": "zgxe1CUffSky",
    "outputId": "74a1e522-c0a3-4b55-9f3e-49610f6ec13c"
   },
   "outputs": [
    {
     "name": "stdout",
     "output_type": "stream",
     "text": [
      "RF3: 0.717512 (0.009777)\n",
      "RF2: 0.713750 (0.002730)\n",
      "RF4: 0.725672 (0.010944)\n"
     ]
    }
   ],
   "source": [
    "metric = 'accuracy'\n",
    "resultsA = []\n",
    "mIDsA = []\n",
    "for mID, mdl in modelsRF:\n",
    "    kf = model_selection.StratifiedKFold(n_splits=10)\n",
    "    cvres = model_selection.cross_val_score(mdl, X_train, y_train, cv=kf, scoring=metric)\n",
    "    resultsA.append(cvres)\n",
    "    mIDsA.append(mID)\n",
    "    print(\"%s: %3f (%3f)\" % (mID, cvres.mean(), cvres.std()))"
   ]
  },
  {
   "cell_type": "code",
   "execution_count": 23,
   "metadata": {
    "id": "NV7pb9OJfSky",
    "outputId": "ebb55fd1-6bc0-4350-a911-641cc4e5c689"
   },
   "outputs": [
    {
     "data": {
      "image/png": "[encoded data removed]",
      "text/plain": [
       "<Figure size 432x288 with 1 Axes>"
      ]
     },
     "metadata": {
      "needs_background": "light"
     },
     "output_type": "display_data"
    }
   ],
   "source": [
    "fig = plt.figure()\n",
    "fig.suptitle('Metric: Accuracy')\n",
    "ax = fig.add_subplot(1,1,1)\n",
    "plt.boxplot(resultsA)\n",
    "ax.set_xticklabels(mIDsA)\n",
    "plt.show()"
   ]
  },
  {
   "cell_type": "markdown",
   "metadata": {
    "id": "vN9BuXt2fSkz"
   },
   "source": [
    "The best Random Forest model had a tree depth = 4. This model performs almost a whole 1% better (0.725672) than the best model we crafted for the classic Classification Tree with tree depth =3 (0.716266). In fact, the accuracy of ALL the Random Forest models we tested were HIGHER than ALL results from the classic Decision Trees. "
   ]
  },
  {
   "cell_type": "markdown",
   "metadata": {
    "id": "yjodtcx6fSkz"
   },
   "source": [
    "## Q5: Repeat this experiment with 50 trees. Provide all relevant results. Does your recommendation change?"
   ]
  },
  {
   "cell_type": "code",
   "execution_count": 24,
   "metadata": {
    "id": "DXe2pPiqfSk0"
   },
   "outputs": [],
   "source": [
    "modelsRF2 = []\n",
    "modelsRF2.append(('RF3.1', RandomForestClassifier(n_estimators = 50, criterion = 'entropy', max_depth = 3, random_state=1)))\n",
    "modelsRF2.append(('RF2.1', RandomForestClassifier(n_estimators = 50, criterion = 'entropy', max_depth = 2, random_state=1)))\n",
    "modelsRF2.append(('RF4.1', RandomForestClassifier(n_estimators = 50, criterion = 'entropy', max_depth = 4, random_state=1)))"
   ]
  },
  {
   "cell_type": "code",
   "execution_count": 25,
   "metadata": {
    "id": "1YycgL5EfSk0",
    "outputId": "011f9f41-997e-4913-fec6-e93e051a71ef"
   },
   "outputs": [
    {
     "name": "stdout",
     "output_type": "stream",
     "text": [
      "RF3.1: 0.715637 (0.010718)\n",
      "RF2.1: 0.714379 (0.003883)\n",
      "RF4.1: 0.724418 (0.009918)\n"
     ]
    }
   ],
   "source": [
    "metric = 'accuracy'\n",
    "resultsA = []\n",
    "mIDsA = []\n",
    "for mID, mdl in modelsRF2:\n",
    "    kf = model_selection.StratifiedKFold(n_splits=10)\n",
    "    cvres = model_selection.cross_val_score(mdl, X_train, y_train, cv=kf, scoring=metric)\n",
    "    resultsA.append(cvres)\n",
    "    mIDsA.append(mID)\n",
    "    print(\"%s: %3f (%3f)\" % (mID, cvres.mean(), cvres.std()))"
   ]
  },
  {
   "cell_type": "markdown",
   "metadata": {
    "id": "6i-RtNWNfSk1"
   },
   "source": [
    "No, our recommendation remains that Random Forests with n=100 and and tree depth =4 is the best model. Even if we were to choose a Random Forests model with n=50, the best tree depth remains 4. "
   ]
  },
  {
   "cell_type": "markdown",
   "metadata": {
    "id": "LvF8JkpLfSk1"
   },
   "source": [
    "## Q6: We will now consider k-nearest neighbor models. Use 10-fold cross validation and identify the best value of k, by trying as many values of k as necessary. Keep in mind that very large values of k can affect speed, and that 5 is the default – try at least values from 5 to 10 (you can try more if you wish). Provide all relevant results. What value of k do you recommend? What is the accuracy associated with this value of k? If you had to select the three best values of k, what would they be?"
   ]
  },
  {
   "cell_type": "code",
   "execution_count": 26,
   "metadata": {
    "id": "dBqs6SsjfSk2"
   },
   "outputs": [],
   "source": [
    "modelsKNN =[]\n",
    "modelsKNN.append(('KN5', KNeighborsClassifier(n_neighbors=5)))\n",
    "modelsKNN.append(('KN6', KNeighborsClassifier(n_neighbors=6)))\n",
    "modelsKNN.append(('KN7', KNeighborsClassifier(n_neighbors=7)))\n",
    "modelsKNN.append(('KN8', KNeighborsClassifier(n_neighbors=8)))\n",
    "modelsKNN.append(('KN9', KNeighborsClassifier(n_neighbors=9)))\n",
    "modelsKNN.append(('KN10', KNeighborsClassifier(n_neighbors=10)))\n",
    "modelsKNN.append(('KN11', KNeighborsClassifier(n_neighbors=11)))\n",
    "modelsKNN.append(('KN12', KNeighborsClassifier(n_neighbors=12)))\n",
    "modelsKNN.append(('KN13', KNeighborsClassifier(n_neighbors=13)))\n",
    "modelsKNN.append(('KN14', KNeighborsClassifier(n_neighbors=14)))"
   ]
  },
  {
   "cell_type": "code",
   "execution_count": 27,
   "metadata": {
    "id": "d0uXB0cjfSk3",
    "outputId": "a39e8331-92ec-46db-a6ff-100e0e876db8"
   },
   "outputs": [
    {
     "name": "stdout",
     "output_type": "stream",
     "text": [
      "KN5: 0.548148 (0.118491)\n",
      "KN6: 0.594354 (0.111941)\n",
      "KN7: 0.553183 (0.113500)\n",
      "KN8: 0.585817 (0.112653)\n",
      "KN9: 0.554178 (0.119146)\n",
      "KN10: 0.587332 (0.098201)\n",
      "KN11: 0.551688 (0.108797)\n",
      "KN12: 0.592362 (0.087573)\n",
      "KN13: 0.574791 (0.093208)\n",
      "KN14: 0.605420 (0.066991)\n"
     ]
    }
   ],
   "source": [
    "metric = 'accuracy'\n",
    "resultsA = []\n",
    "mIDsA = []\n",
    "for mID, mdl in modelsKNN:\n",
    "    kf = model_selection.StratifiedKFold(n_splits=10)\n",
    "    cvres = model_selection.cross_val_score(mdl, X, y, cv=kf, scoring=metric)\n",
    "    resultsA.append(cvres)\n",
    "    mIDsA.append(mID)\n",
    "    print(\"%s: %3f (%3f)\" % (mID, cvres.mean(), cvres.std()))"
   ]
  },
  {
   "cell_type": "markdown",
   "metadata": {
    "id": "x8wkt3gjfSk3"
   },
   "source": [
    "## Q7: Develop a logistic regression model using 10-fold cross validation. What is the associated accuracy?"
   ]
  },
  {
   "cell_type": "code",
   "execution_count": 28,
   "metadata": {
    "id": "W35Amdg4fSk3"
   },
   "outputs": [],
   "source": [
    "modelsLR = []\n",
    "modelsLR.append(('LR', LogisticRegression()))"
   ]
  },
  {
   "cell_type": "code",
   "execution_count": 29,
   "metadata": {
    "id": "ZmSJLeqcfSk4",
    "outputId": "0bc504f1-5257-4232-85a7-fdf528076ad9"
   },
   "outputs": [
    {
     "name": "stdout",
     "output_type": "stream",
     "text": [
      "LR: 0.711852 (0.006205)\n"
     ]
    }
   ],
   "source": [
    "metric = 'accuracy'\n",
    "resultsA = []\n",
    "mIDsA = []\n",
    "for mID, mdl in modelsLR:\n",
    "    kf = model_selection.StratifiedKFold(n_splits=10)\n",
    "    cvres = model_selection.cross_val_score(mdl, X, y, cv=kf, scoring=metric)\n",
    "    resultsA.append(cvres)\n",
    "    mIDsA.append(mID)\n",
    "    print(\"%s: %3f (%3f)\" % (mID, cvres.mean(), cvres.std()))"
   ]
  },
  {
   "cell_type": "markdown",
   "metadata": {
    "id": "1tbQA9C6fSk4"
   },
   "source": [
    "## Q8: Develop a logistic regression model on the entire training dataset. Provide the output. What is the model developed?"
   ]
  },
  {
   "cell_type": "code",
   "execution_count": 30,
   "metadata": {
    "id": "fYSYhimxfSk5",
    "outputId": "d49120ec-3ba9-482a-a07a-b6d262075cc9"
   },
   "outputs": [
    {
     "data": {
      "text/plain": [
       "{'C': 1.0,\n",
       " 'class_weight': None,\n",
       " 'dual': False,\n",
       " 'fit_intercept': True,\n",
       " 'intercept_scaling': 1,\n",
       " 'l1_ratio': None,\n",
       " 'max_iter': 100,\n",
       " 'multi_class': 'auto',\n",
       " 'n_jobs': None,\n",
       " 'penalty': 'l2',\n",
       " 'random_state': 1,\n",
       " 'solver': 'lbfgs',\n",
       " 'tol': 0.0001,\n",
       " 'verbose': 0,\n",
       " 'warm_start': False}"
      ]
     },
     "execution_count": 30,
     "metadata": {},
     "output_type": "execute_result"
    }
   ],
   "source": [
    "LR = LogisticRegression(random_state=1).fit(X_train, y_train)\n",
    "LR.score(X, y)\n",
    "\n",
    "##get the equation\n",
    "LR.get_params()"
   ]
  },
  {
   "cell_type": "markdown",
   "metadata": {
    "id": "XVR4Wq1rfSk5"
   },
   "source": [
    "## Q9: Using the four best models identified in each category (decision tree, random forest, k-nearest neighbor, logistic regression), perform an  evaluation with 10-fold cross-validation. Your results should be similar (but not necessarily identical) to the results you have already obtained for these models. Across these four models, which one would you recommend, and why?"
   ]
  },
  {
   "cell_type": "code",
   "execution_count": 31,
   "metadata": {
    "id": "GPViPriNfSk5"
   },
   "outputs": [],
   "source": [
    "modelsFINAL=[]\n",
    "modelsFINAL.append(('KN12', KNeighborsClassifier(n_neighbors=12)))\n",
    "modelsFINAL.append(('RF4.1', RandomForestClassifier(n_estimators = 50, criterion = 'entropy', max_depth = 4)))\n",
    "modelsFINAL.append(('RF4', RandomForestClassifier(n_estimators = 100, criterion = 'entropy', max_depth = 4)))\n",
    "modelsFINAL.append(('DT3', DecisionTreeClassifier(criterion = 'entropy', max_depth = 3)))\n",
    "modelsFINAL.append(('LR', LogisticRegression()))"
   ]
  },
  {
   "cell_type": "code",
   "execution_count": 32,
   "metadata": {
    "id": "ghvCQHUMfSk6",
    "outputId": "7d231c51-f322-4aaf-ea46-594e7bd3a0a0"
   },
   "outputs": [
    {
     "name": "stdout",
     "output_type": "stream",
     "text": [
      "KN12: 0.592362 (0.087573)\n",
      "RF4.1: 0.705319 (0.006448)\n",
      "RF4: 0.707329 (0.008102)\n",
      "DT3: 0.691261 (0.024369)\n",
      "LR: 0.711852 (0.006205)\n"
     ]
    }
   ],
   "source": [
    "metric = 'accuracy'\n",
    "resultsA = []\n",
    "mIDsA = []\n",
    "for mID, mdl in modelsFINAL:\n",
    "    kf = model_selection.StratifiedKFold(n_splits=10)\n",
    "    cvres = model_selection.cross_val_score(mdl, X, y, cv=kf, scoring=metric)\n",
    "    resultsA.append(cvres)\n",
    "    mIDsA.append(mID)\n",
    "    print(\"%s: %3f (%3f)\" % (mID, cvres.mean(), cvres.std()))"
   ]
  },
  {
   "cell_type": "markdown",
   "metadata": {
    "id": "mCLQ7HEUfSk6"
   },
   "source": [
    "## Q10: Use the entire dataset to develop a final version of the recommended model for testing. Provide all details of the model (and the tree if the recommended model is the decision tree). What is that accuracy of this model on the training dataset?"
   ]
  },
  {
   "cell_type": "code",
   "execution_count": 145,
   "metadata": {
    "id": "71cgOiVPfSk7",
    "outputId": "4ec38f69-0477-4b1b-d116-a4d075e71828"
   },
   "outputs": [
    {
     "data": {
      "text/plain": [
       "0.7143574297188755"
      ]
     },
     "execution_count": 145,
     "metadata": {},
     "output_type": "execute_result"
    }
   ],
   "source": [
    "LR = LogisticRegression(random_state=1).fit(X, y)\n",
    "LR.score(X, y)"
   ]
  },
  {
   "cell_type": "code",
   "execution_count": 146,
   "metadata": {},
   "outputs": [
    {
     "data": {
      "text/plain": [
       "{'C': 1.0,\n",
       " 'class_weight': None,\n",
       " 'dual': False,\n",
       " 'fit_intercept': True,\n",
       " 'intercept_scaling': 1,\n",
       " 'l1_ratio': None,\n",
       " 'max_iter': 100,\n",
       " 'multi_class': 'auto',\n",
       " 'n_jobs': None,\n",
       " 'penalty': 'l2',\n",
       " 'random_state': 1,\n",
       " 'solver': 'lbfgs',\n",
       " 'tol': 0.0001,\n",
       " 'verbose': 0,\n",
       " 'warm_start': False}"
      ]
     },
     "execution_count": 146,
     "metadata": {},
     "output_type": "execute_result"
    }
   ],
   "source": [
    "##get the equation\n",
    "LR.get_params()"
   ]
  },
  {
   "cell_type": "markdown",
   "metadata": {
    "id": "VrMyMJvvfSk7"
   },
   "source": [
    "## Q11: Read the file dmtest.csv and make predictions (using the final model) on which customers are likely to respond, and which are not. The predictions have to be 0 or 1 – if the model you selected naturally gives a probability score, use 0.5 as the threshold to determine whether your prediction will be 0 or 1. For example, if you use a logistic regression model that gives you a probability estimate of 0.51, the prediction should be 1, and if it gives a a probability estimate of 0.49, the prediction should be 0. Create a file groupxxdmtest.csv that adds a column named “prediction” to the original variables in dmtest.csv and submit it with your report. I will assess the quality of your predictions based on the actual values (which are not included in dmtest.csv)."
   ]
  },
  {
   "cell_type": "code",
   "execution_count": 119,
   "metadata": {
    "id": "U0_-rJLAfSk8"
   },
   "outputs": [],
   "source": [
    "df2 = pd.read_csv(\"dmtest.csv\")\n",
    "df2.drop(['id'],axis=1,inplace=True)\n",
    "df2['revlast'] = df2['revlast'].replace(0,0.000001)\n",
    "df2['n24'] = np.log(df2['n24'])\n",
    "df2['rev24'] = np.log(df2['rev24'])\n",
    "df2['revlast'] = np.log(df2['revlast'])\n",
    "df2['ordfreq'] = np.log(df2['ordfreq'])"
   ]
  },
  {
   "cell_type": "code",
   "execution_count": 120,
   "metadata": {},
   "outputs": [
    {
     "data": {
      "text/html": [
       "<div>\n",
       "<style scoped>\n",
       "    .dataframe tbody tr th:only-of-type {\n",
       "        vertical-align: middle;\n",
       "    }\n",
       "\n",
       "    .dataframe tbody tr th {\n",
       "        vertical-align: top;\n",
       "    }\n",
       "\n",
       "    .dataframe thead th {\n",
       "        text-align: right;\n",
       "    }\n",
       "</style>\n",
       "<table border=\"1\" class=\"dataframe\">\n",
       "  <thead>\n",
       "    <tr style=\"text-align: right;\">\n",
       "      <th></th>\n",
       "      <th>n24</th>\n",
       "      <th>rev24</th>\n",
       "      <th>revlast</th>\n",
       "      <th>elpsdm</th>\n",
       "      <th>ordfreq</th>\n",
       "      <th>ordcat</th>\n",
       "    </tr>\n",
       "  </thead>\n",
       "  <tbody>\n",
       "    <tr>\n",
       "      <th>0</th>\n",
       "      <td>1.609438</td>\n",
       "      <td>5.225747</td>\n",
       "      <td>2.890372</td>\n",
       "      <td>24</td>\n",
       "      <td>0.000000</td>\n",
       "      <td>6</td>\n",
       "    </tr>\n",
       "    <tr>\n",
       "      <th>1</th>\n",
       "      <td>0.693147</td>\n",
       "      <td>3.401197</td>\n",
       "      <td>2.708050</td>\n",
       "      <td>24</td>\n",
       "      <td>0.000000</td>\n",
       "      <td>6</td>\n",
       "    </tr>\n",
       "    <tr>\n",
       "      <th>2</th>\n",
       "      <td>3.178054</td>\n",
       "      <td>5.891644</td>\n",
       "      <td>3.401197</td>\n",
       "      <td>24</td>\n",
       "      <td>0.000000</td>\n",
       "      <td>7</td>\n",
       "    </tr>\n",
       "    <tr>\n",
       "      <th>3</th>\n",
       "      <td>1.386294</td>\n",
       "      <td>3.713572</td>\n",
       "      <td>2.708050</td>\n",
       "      <td>24</td>\n",
       "      <td>0.000000</td>\n",
       "      <td>6</td>\n",
       "    </tr>\n",
       "    <tr>\n",
       "      <th>4</th>\n",
       "      <td>1.609438</td>\n",
       "      <td>4.077537</td>\n",
       "      <td>2.890372</td>\n",
       "      <td>24</td>\n",
       "      <td>0.000000</td>\n",
       "      <td>6</td>\n",
       "    </tr>\n",
       "    <tr>\n",
       "      <th>...</th>\n",
       "      <td>...</td>\n",
       "      <td>...</td>\n",
       "      <td>...</td>\n",
       "      <td>...</td>\n",
       "      <td>...</td>\n",
       "      <td>...</td>\n",
       "    </tr>\n",
       "    <tr>\n",
       "      <th>1995</th>\n",
       "      <td>2.197225</td>\n",
       "      <td>5.105945</td>\n",
       "      <td>-13.815511</td>\n",
       "      <td>1</td>\n",
       "      <td>0.000000</td>\n",
       "      <td>7</td>\n",
       "    </tr>\n",
       "    <tr>\n",
       "      <th>1996</th>\n",
       "      <td>2.397895</td>\n",
       "      <td>5.003946</td>\n",
       "      <td>2.708050</td>\n",
       "      <td>1</td>\n",
       "      <td>1.098612</td>\n",
       "      <td>6</td>\n",
       "    </tr>\n",
       "    <tr>\n",
       "      <th>1997</th>\n",
       "      <td>2.890372</td>\n",
       "      <td>5.081404</td>\n",
       "      <td>2.564949</td>\n",
       "      <td>1</td>\n",
       "      <td>0.693147</td>\n",
       "      <td>5</td>\n",
       "    </tr>\n",
       "    <tr>\n",
       "      <th>1998</th>\n",
       "      <td>3.258097</td>\n",
       "      <td>6.056784</td>\n",
       "      <td>3.218876</td>\n",
       "      <td>1</td>\n",
       "      <td>1.386294</td>\n",
       "      <td>7</td>\n",
       "    </tr>\n",
       "    <tr>\n",
       "      <th>1999</th>\n",
       "      <td>2.197225</td>\n",
       "      <td>4.828314</td>\n",
       "      <td>-13.815511</td>\n",
       "      <td>1</td>\n",
       "      <td>0.000000</td>\n",
       "      <td>6</td>\n",
       "    </tr>\n",
       "  </tbody>\n",
       "</table>\n",
       "<p>2000 rows × 6 columns</p>\n",
       "</div>"
      ],
      "text/plain": [
       "           n24     rev24    revlast  elpsdm   ordfreq  ordcat\n",
       "0     1.609438  5.225747   2.890372      24  0.000000       6\n",
       "1     0.693147  3.401197   2.708050      24  0.000000       6\n",
       "2     3.178054  5.891644   3.401197      24  0.000000       7\n",
       "3     1.386294  3.713572   2.708050      24  0.000000       6\n",
       "4     1.609438  4.077537   2.890372      24  0.000000       6\n",
       "...        ...       ...        ...     ...       ...     ...\n",
       "1995  2.197225  5.105945 -13.815511       1  0.000000       7\n",
       "1996  2.397895  5.003946   2.708050       1  1.098612       6\n",
       "1997  2.890372  5.081404   2.564949       1  0.693147       5\n",
       "1998  3.258097  6.056784   3.218876       1  1.386294       7\n",
       "1999  2.197225  4.828314 -13.815511       1  0.000000       6\n",
       "\n",
       "[2000 rows x 6 columns]"
      ]
     },
     "execution_count": 120,
     "metadata": {},
     "output_type": "execute_result"
    }
   ],
   "source": [
    "df2"
   ]
  },
  {
   "cell_type": "code",
   "execution_count": 121,
   "metadata": {
    "colab": {
     "base_uri": "https://localhost:8080/"
    },
    "id": "DJugyamug26W",
    "outputId": "3ee8f07d-be7a-4d58-fff9-72e918ae7a0b"
   },
   "outputs": [
    {
     "name": "stderr",
     "output_type": "stream",
     "text": [
      "/opt/anaconda3/lib/python3.8/site-packages/sklearn/base.py:443: UserWarning: X has feature names, but LogisticRegression was fitted without feature names\n",
      "  warnings.warn(\n"
     ]
    },
    {
     "data": {
      "text/plain": [
       "[0,\n",
       " 0,\n",
       " 0,\n",
       " 0,\n",
       " 0,\n",
       " 0,\n",
       " 0,\n",
       " 0,\n",
       " 0,\n",
       " 0,\n",
       " 0,\n",
       " 0,\n",
       " 0,\n",
       " 0,\n",
       " 0,\n",
       " 0,\n",
       " 0,\n",
       " 0,\n",
       " 0,\n",
       " 0,\n",
       " 0,\n",
       " 0,\n",
       " 0,\n",
       " 0,\n",
       " 0,\n",
       " 0,\n",
       " 0,\n",
       " 0,\n",
       " 0,\n",
       " 0,\n",
       " 0,\n",
       " 0,\n",
       " 0,\n",
       " 0,\n",
       " 0,\n",
       " 0,\n",
       " 0,\n",
       " 0,\n",
       " 0,\n",
       " 0,\n",
       " 0,\n",
       " 0,\n",
       " 0,\n",
       " 0,\n",
       " 0,\n",
       " 0,\n",
       " 0,\n",
       " 0,\n",
       " 0,\n",
       " 0,\n",
       " 0,\n",
       " 0,\n",
       " 0,\n",
       " 0,\n",
       " 0,\n",
       " 0,\n",
       " 0,\n",
       " 0,\n",
       " 0,\n",
       " 0,\n",
       " 0,\n",
       " 0,\n",
       " 0,\n",
       " 0,\n",
       " 0,\n",
       " 0,\n",
       " 0,\n",
       " 0,\n",
       " 0,\n",
       " 0,\n",
       " 0,\n",
       " 0,\n",
       " 0,\n",
       " 0,\n",
       " 0,\n",
       " 0,\n",
       " 0,\n",
       " 0,\n",
       " 0,\n",
       " 0,\n",
       " 0,\n",
       " 0,\n",
       " 0,\n",
       " 0,\n",
       " 0,\n",
       " 0,\n",
       " 0,\n",
       " 0,\n",
       " 0,\n",
       " 0,\n",
       " 0,\n",
       " 0,\n",
       " 0,\n",
       " 0,\n",
       " 0,\n",
       " 0,\n",
       " 0,\n",
       " 0,\n",
       " 0,\n",
       " 0,\n",
       " 0,\n",
       " 0,\n",
       " 0,\n",
       " 0,\n",
       " 0,\n",
       " 0,\n",
       " 0,\n",
       " 0,\n",
       " 0,\n",
       " 0,\n",
       " 0,\n",
       " 0,\n",
       " 0,\n",
       " 0,\n",
       " 0,\n",
       " 0,\n",
       " 0,\n",
       " 0,\n",
       " 0,\n",
       " 0,\n",
       " 0,\n",
       " 0,\n",
       " 0,\n",
       " 0,\n",
       " 0,\n",
       " 0,\n",
       " 0,\n",
       " 0,\n",
       " 0,\n",
       " 0,\n",
       " 0,\n",
       " 0,\n",
       " 0,\n",
       " 0,\n",
       " 0,\n",
       " 0,\n",
       " 0,\n",
       " 0,\n",
       " 0,\n",
       " 0,\n",
       " 0,\n",
       " 0,\n",
       " 0,\n",
       " 0,\n",
       " 0,\n",
       " 0,\n",
       " 0,\n",
       " 0,\n",
       " 0,\n",
       " 0,\n",
       " 0,\n",
       " 0,\n",
       " 0,\n",
       " 0,\n",
       " 0,\n",
       " 0,\n",
       " 0,\n",
       " 0,\n",
       " 0,\n",
       " 0,\n",
       " 0,\n",
       " 0,\n",
       " 0,\n",
       " 0,\n",
       " 0,\n",
       " 0,\n",
       " 0,\n",
       " 0,\n",
       " 0,\n",
       " 0,\n",
       " 0,\n",
       " 0,\n",
       " 0,\n",
       " 0,\n",
       " 0,\n",
       " 0,\n",
       " 0,\n",
       " 0,\n",
       " 0,\n",
       " 0,\n",
       " 0,\n",
       " 0,\n",
       " 0,\n",
       " 0,\n",
       " 0,\n",
       " 0,\n",
       " 0,\n",
       " 0,\n",
       " 0,\n",
       " 0,\n",
       " 0,\n",
       " 0,\n",
       " 0,\n",
       " 0,\n",
       " 0,\n",
       " 0,\n",
       " 0,\n",
       " 0,\n",
       " 0,\n",
       " 0,\n",
       " 0,\n",
       " 0,\n",
       " 0,\n",
       " 0,\n",
       " 0,\n",
       " 0,\n",
       " 0,\n",
       " 0,\n",
       " 0,\n",
       " 0,\n",
       " 0,\n",
       " 0,\n",
       " 0,\n",
       " 0,\n",
       " 0,\n",
       " 0,\n",
       " 0,\n",
       " 0,\n",
       " 0,\n",
       " 0,\n",
       " 0,\n",
       " 0,\n",
       " 0,\n",
       " 0,\n",
       " 0,\n",
       " 0,\n",
       " 0,\n",
       " 0,\n",
       " 0,\n",
       " 0,\n",
       " 0,\n",
       " 0,\n",
       " 0,\n",
       " 0,\n",
       " 0,\n",
       " 0,\n",
       " 0,\n",
       " 0,\n",
       " 0,\n",
       " 0,\n",
       " 0,\n",
       " 0,\n",
       " 0,\n",
       " 0,\n",
       " 0,\n",
       " 0,\n",
       " 0,\n",
       " 0,\n",
       " 0,\n",
       " 0,\n",
       " 0,\n",
       " 0,\n",
       " 0,\n",
       " 0,\n",
       " 0,\n",
       " 0,\n",
       " 0,\n",
       " 0,\n",
       " 0,\n",
       " 0,\n",
       " 0,\n",
       " 0,\n",
       " 0,\n",
       " 0,\n",
       " 0,\n",
       " 0,\n",
       " 0,\n",
       " 0,\n",
       " 0,\n",
       " 0,\n",
       " 0,\n",
       " 0,\n",
       " 0,\n",
       " 0,\n",
       " 0,\n",
       " 0,\n",
       " 0,\n",
       " 0,\n",
       " 0,\n",
       " 0,\n",
       " 0,\n",
       " 0,\n",
       " 0,\n",
       " 0,\n",
       " 0,\n",
       " 0,\n",
       " 0,\n",
       " 0,\n",
       " 0,\n",
       " 0,\n",
       " 0,\n",
       " 0,\n",
       " 0,\n",
       " 0,\n",
       " 0,\n",
       " 0,\n",
       " 0,\n",
       " 0,\n",
       " 0,\n",
       " 0,\n",
       " 0,\n",
       " 0,\n",
       " 0,\n",
       " 0,\n",
       " 0,\n",
       " 0,\n",
       " 0,\n",
       " 0,\n",
       " 0,\n",
       " 0,\n",
       " 0,\n",
       " 0,\n",
       " 0,\n",
       " 0,\n",
       " 0,\n",
       " 0,\n",
       " 0,\n",
       " 0,\n",
       " 0,\n",
       " 0,\n",
       " 0,\n",
       " 0,\n",
       " 0,\n",
       " 0,\n",
       " 0,\n",
       " 0,\n",
       " 0,\n",
       " 0,\n",
       " 0,\n",
       " 0,\n",
       " 0,\n",
       " 0,\n",
       " 0,\n",
       " 0,\n",
       " 0,\n",
       " 0,\n",
       " 0,\n",
       " 0,\n",
       " 0,\n",
       " 0,\n",
       " 0,\n",
       " 0,\n",
       " 0,\n",
       " 0,\n",
       " 0,\n",
       " 0,\n",
       " 0,\n",
       " 0,\n",
       " 0,\n",
       " 0,\n",
       " 0,\n",
       " 0,\n",
       " 0,\n",
       " 0,\n",
       " 0,\n",
       " 0,\n",
       " 0,\n",
       " 0,\n",
       " 0,\n",
       " 0,\n",
       " 0,\n",
       " 0,\n",
       " 0,\n",
       " 0,\n",
       " 0,\n",
       " 0,\n",
       " 0,\n",
       " 0,\n",
       " 0,\n",
       " 0,\n",
       " 0,\n",
       " 0,\n",
       " 0,\n",
       " 0,\n",
       " 0,\n",
       " 0,\n",
       " 0,\n",
       " 0,\n",
       " 0,\n",
       " 0,\n",
       " 0,\n",
       " 0,\n",
       " 0,\n",
       " 0,\n",
       " 0,\n",
       " 0,\n",
       " 0,\n",
       " 0,\n",
       " 0,\n",
       " 0,\n",
       " 0,\n",
       " 0,\n",
       " 0,\n",
       " 0,\n",
       " 0,\n",
       " 0,\n",
       " 0,\n",
       " 0,\n",
       " 0,\n",
       " 0,\n",
       " 0,\n",
       " 0,\n",
       " 0,\n",
       " 0,\n",
       " 0,\n",
       " 0,\n",
       " 0,\n",
       " 0,\n",
       " 0,\n",
       " 0,\n",
       " 0,\n",
       " 0,\n",
       " 0,\n",
       " 0,\n",
       " 0,\n",
       " 0,\n",
       " 0,\n",
       " 0,\n",
       " 0,\n",
       " 0,\n",
       " 0,\n",
       " 0,\n",
       " 0,\n",
       " 0,\n",
       " 0,\n",
       " 0,\n",
       " 0,\n",
       " 0,\n",
       " 0,\n",
       " 0,\n",
       " 0,\n",
       " 0,\n",
       " 0,\n",
       " 0,\n",
       " 0,\n",
       " 0,\n",
       " 0,\n",
       " 0,\n",
       " 0,\n",
       " 0,\n",
       " 0,\n",
       " 0,\n",
       " 0,\n",
       " 0,\n",
       " 0,\n",
       " 0,\n",
       " 0,\n",
       " 0,\n",
       " 0,\n",
       " 0,\n",
       " 0,\n",
       " 0,\n",
       " 0,\n",
       " 0,\n",
       " 0,\n",
       " 0,\n",
       " 0,\n",
       " 0,\n",
       " 0,\n",
       " 0,\n",
       " 0,\n",
       " 0,\n",
       " 0,\n",
       " 0,\n",
       " 0,\n",
       " 0,\n",
       " 0,\n",
       " 0,\n",
       " 0,\n",
       " 0,\n",
       " 0,\n",
       " 0,\n",
       " 0,\n",
       " 0,\n",
       " 0,\n",
       " 0,\n",
       " 0,\n",
       " 0,\n",
       " 0,\n",
       " 0,\n",
       " 0,\n",
       " 0,\n",
       " 0,\n",
       " 0,\n",
       " 0,\n",
       " 0,\n",
       " 0,\n",
       " 0,\n",
       " 0,\n",
       " 0,\n",
       " 0,\n",
       " 0,\n",
       " 0,\n",
       " 0,\n",
       " 0,\n",
       " 0,\n",
       " 0,\n",
       " 0,\n",
       " 0,\n",
       " 0,\n",
       " 0,\n",
       " 0,\n",
       " 0,\n",
       " 0,\n",
       " 0,\n",
       " 0,\n",
       " 0,\n",
       " 0,\n",
       " 0,\n",
       " 0,\n",
       " 0,\n",
       " 0,\n",
       " 0,\n",
       " 0,\n",
       " 0,\n",
       " 0,\n",
       " 0,\n",
       " 0,\n",
       " 0,\n",
       " 0,\n",
       " 0,\n",
       " 0,\n",
       " 0,\n",
       " 0,\n",
       " 0,\n",
       " 0,\n",
       " 0,\n",
       " 0,\n",
       " 0,\n",
       " 0,\n",
       " 0,\n",
       " 0,\n",
       " 0,\n",
       " 0,\n",
       " 0,\n",
       " 0,\n",
       " 0,\n",
       " 0,\n",
       " 0,\n",
       " 0,\n",
       " 0,\n",
       " 0,\n",
       " 0,\n",
       " 0,\n",
       " 0,\n",
       " 0,\n",
       " 0,\n",
       " 0,\n",
       " 0,\n",
       " 0,\n",
       " 0,\n",
       " 0,\n",
       " 0,\n",
       " 0,\n",
       " 0,\n",
       " 0,\n",
       " 0,\n",
       " 0,\n",
       " 0,\n",
       " 0,\n",
       " 0,\n",
       " 0,\n",
       " 0,\n",
       " 0,\n",
       " 0,\n",
       " 0,\n",
       " 0,\n",
       " 0,\n",
       " 0,\n",
       " 0,\n",
       " 0,\n",
       " 0,\n",
       " 0,\n",
       " 0,\n",
       " 0,\n",
       " 0,\n",
       " 0,\n",
       " 0,\n",
       " 0,\n",
       " 0,\n",
       " 0,\n",
       " 0,\n",
       " 0,\n",
       " 0,\n",
       " 0,\n",
       " 0,\n",
       " 0,\n",
       " 0,\n",
       " 0,\n",
       " 0,\n",
       " 0,\n",
       " 0,\n",
       " 0,\n",
       " 0,\n",
       " 0,\n",
       " 0,\n",
       " 0,\n",
       " 0,\n",
       " 0,\n",
       " 0,\n",
       " 0,\n",
       " 0,\n",
       " 0,\n",
       " 0,\n",
       " 0,\n",
       " 0,\n",
       " 0,\n",
       " 0,\n",
       " 0,\n",
       " 0,\n",
       " 0,\n",
       " 0,\n",
       " 0,\n",
       " 0,\n",
       " 0,\n",
       " 0,\n",
       " 0,\n",
       " 0,\n",
       " 0,\n",
       " 0,\n",
       " 0,\n",
       " 0,\n",
       " 0,\n",
       " 0,\n",
       " 0,\n",
       " 0,\n",
       " 0,\n",
       " 0,\n",
       " 0,\n",
       " 0,\n",
       " 0,\n",
       " 0,\n",
       " 0,\n",
       " 0,\n",
       " 0,\n",
       " 0,\n",
       " 0,\n",
       " 0,\n",
       " 0,\n",
       " 0,\n",
       " 0,\n",
       " 0,\n",
       " 0,\n",
       " 0,\n",
       " 0,\n",
       " 0,\n",
       " 0,\n",
       " 0,\n",
       " 0,\n",
       " 0,\n",
       " 0,\n",
       " 0,\n",
       " 0,\n",
       " 0,\n",
       " 0,\n",
       " 0,\n",
       " 0,\n",
       " 0,\n",
       " 0,\n",
       " 0,\n",
       " 0,\n",
       " 0,\n",
       " 0,\n",
       " 0,\n",
       " 0,\n",
       " 0,\n",
       " 0,\n",
       " 0,\n",
       " 0,\n",
       " 0,\n",
       " 0,\n",
       " 0,\n",
       " 0,\n",
       " 0,\n",
       " 0,\n",
       " 0,\n",
       " 0,\n",
       " 0,\n",
       " 0,\n",
       " 0,\n",
       " 0,\n",
       " 0,\n",
       " 0,\n",
       " 0,\n",
       " 0,\n",
       " 0,\n",
       " 0,\n",
       " 0,\n",
       " 0,\n",
       " 0,\n",
       " 0,\n",
       " 0,\n",
       " 0,\n",
       " 0,\n",
       " 0,\n",
       " 0,\n",
       " 0,\n",
       " 0,\n",
       " 0,\n",
       " 0,\n",
       " 0,\n",
       " 0,\n",
       " 0,\n",
       " 0,\n",
       " 0,\n",
       " 0,\n",
       " 0,\n",
       " 0,\n",
       " 0,\n",
       " 0,\n",
       " 0,\n",
       " 0,\n",
       " 0,\n",
       " 0,\n",
       " 0,\n",
       " 0,\n",
       " 0,\n",
       " 0,\n",
       " 0,\n",
       " 0,\n",
       " 0,\n",
       " 0,\n",
       " 0,\n",
       " 0,\n",
       " 0,\n",
       " 0,\n",
       " 0,\n",
       " 0,\n",
       " 0,\n",
       " 0,\n",
       " 0,\n",
       " 0,\n",
       " 0,\n",
       " 0,\n",
       " 0,\n",
       " 0,\n",
       " 0,\n",
       " 0,\n",
       " 0,\n",
       " 0,\n",
       " 0,\n",
       " 0,\n",
       " 0,\n",
       " 0,\n",
       " 0,\n",
       " 0,\n",
       " 0,\n",
       " 0,\n",
       " 0,\n",
       " 0,\n",
       " 0,\n",
       " 0,\n",
       " 0,\n",
       " 0,\n",
       " 0,\n",
       " 0,\n",
       " 0,\n",
       " 0,\n",
       " 0,\n",
       " 0,\n",
       " 0,\n",
       " 0,\n",
       " 0,\n",
       " 0,\n",
       " 0,\n",
       " 0,\n",
       " 0,\n",
       " 0,\n",
       " 0,\n",
       " 0,\n",
       " 0,\n",
       " 0,\n",
       " 0,\n",
       " 0,\n",
       " 0,\n",
       " 0,\n",
       " 0,\n",
       " 0,\n",
       " 0,\n",
       " 0,\n",
       " 0,\n",
       " 0,\n",
       " 0,\n",
       " 0,\n",
       " 0,\n",
       " 0,\n",
       " 0,\n",
       " 0,\n",
       " 0,\n",
       " 0,\n",
       " 0,\n",
       " 0,\n",
       " 0,\n",
       " 0,\n",
       " 0,\n",
       " 0,\n",
       " 0,\n",
       " 0,\n",
       " 0,\n",
       " 0,\n",
       " 0,\n",
       " 0,\n",
       " 0,\n",
       " 0,\n",
       " 0,\n",
       " 0,\n",
       " 0,\n",
       " 0,\n",
       " 0,\n",
       " 0,\n",
       " 0,\n",
       " 0,\n",
       " 0,\n",
       " 0,\n",
       " 0,\n",
       " 0,\n",
       " 0,\n",
       " 0,\n",
       " 0,\n",
       " 0,\n",
       " 0,\n",
       " 0,\n",
       " 0,\n",
       " 0,\n",
       " 0,\n",
       " 0,\n",
       " 0,\n",
       " 0,\n",
       " 0,\n",
       " 0,\n",
       " 0,\n",
       " 0,\n",
       " 0,\n",
       " 0,\n",
       " 0,\n",
       " 0,\n",
       " 0,\n",
       " 0,\n",
       " 0,\n",
       " 0,\n",
       " 0,\n",
       " 0,\n",
       " 0,\n",
       " 0,\n",
       " 0,\n",
       " 0,\n",
       " 0,\n",
       " 0,\n",
       " 0,\n",
       " 0,\n",
       " 0,\n",
       " 0,\n",
       " 0,\n",
       " 0,\n",
       " 0,\n",
       " 0,\n",
       " 0,\n",
       " 0,\n",
       " 0,\n",
       " 0,\n",
       " 0,\n",
       " 0,\n",
       " 0,\n",
       " 0,\n",
       " 0,\n",
       " 0,\n",
       " 0,\n",
       " 0,\n",
       " 0,\n",
       " 0,\n",
       " 0,\n",
       " 0,\n",
       " 0,\n",
       " 0,\n",
       " 0,\n",
       " 0,\n",
       " 0,\n",
       " 0,\n",
       " 0,\n",
       " 0,\n",
       " 0,\n",
       " 0,\n",
       " 0,\n",
       " 0,\n",
       " 0,\n",
       " 0,\n",
       " 0,\n",
       " 0,\n",
       " 0,\n",
       " 0,\n",
       " 0,\n",
       " 0,\n",
       " 0,\n",
       " 0,\n",
       " 0,\n",
       " 0,\n",
       " 0,\n",
       " 0,\n",
       " 0,\n",
       " 0,\n",
       " 0,\n",
       " 0,\n",
       " 0,\n",
       " 0,\n",
       " 0,\n",
       " 0,\n",
       " 0,\n",
       " 0,\n",
       " 0,\n",
       " 0,\n",
       " 0,\n",
       " 0,\n",
       " 0,\n",
       " 0,\n",
       " 0,\n",
       " 0,\n",
       " 0,\n",
       " 0,\n",
       " 0,\n",
       " 0,\n",
       " 0,\n",
       " 0,\n",
       " 0,\n",
       " 0,\n",
       " 0,\n",
       " 0,\n",
       " 0,\n",
       " 0,\n",
       " 0,\n",
       " 0,\n",
       " 0,\n",
       " 0,\n",
       " 0,\n",
       " 0,\n",
       " 0,\n",
       " 0,\n",
       " 0,\n",
       " 0,\n",
       " 0,\n",
       " 0,\n",
       " 0,\n",
       " 0,\n",
       " 0,\n",
       " 0,\n",
       " 0,\n",
       " 0,\n",
       " 0,\n",
       " 0,\n",
       " 0,\n",
       " 0,\n",
       " 0,\n",
       " 0,\n",
       " 0,\n",
       " 0,\n",
       " 0,\n",
       " 0,\n",
       " 0,\n",
       " 0,\n",
       " 0,\n",
       " 0,\n",
       " 0,\n",
       " 0,\n",
       " 0,\n",
       " 0,\n",
       " 0,\n",
       " 0,\n",
       " 0,\n",
       " 0,\n",
       " 0,\n",
       " 0,\n",
       " 0,\n",
       " 0,\n",
       " 0,\n",
       " 0,\n",
       " 0,\n",
       " 0,\n",
       " 0,\n",
       " 0,\n",
       " 0,\n",
       " 0,\n",
       " 0,\n",
       " 0,\n",
       " 0,\n",
       " 0,\n",
       " 0,\n",
       " 0,\n",
       " 0,\n",
       " 0,\n",
       " 0,\n",
       " 0,\n",
       " 0,\n",
       " 0,\n",
       " 0,\n",
       " 0,\n",
       " 0,\n",
       " 0,\n",
       " 0,\n",
       " 0,\n",
       " 0,\n",
       " 0,\n",
       " ...]"
      ]
     },
     "execution_count": 121,
     "metadata": {},
     "output_type": "execute_result"
    }
   ],
   "source": [
    "logistic_regression = LogisticRegression().fit(X,y)\n",
    "probabilities = logistic_regression.predict_proba(df2)\n",
    "result_arr = []\n",
    "for i in probabilities:\n",
    "    if i[1] >= 0.5:\n",
    "        result_arr.append(1)\n",
    "    else:\n",
    "        result_arr.append(0)\n",
    "result_arr"
   ]
  },
  {
   "cell_type": "code",
   "execution_count": 122,
   "metadata": {
    "colab": {
     "base_uri": "https://localhost:8080/"
    },
    "id": "cVXUJPSRiCT-",
    "outputId": "988872b1-7d96-4eb8-86d8-a3c36639ce60"
   },
   "outputs": [
    {
     "data": {
      "text/plain": [
       "Counter({0: 1962, 1: 38})"
      ]
     },
     "execution_count": 122,
     "metadata": {},
     "output_type": "execute_result"
    }
   ],
   "source": [
    "from collections import Counter\n",
    "Counter(result_arr)"
   ]
  },
  {
   "cell_type": "code",
   "execution_count": 123,
   "metadata": {
    "id": "qUUOI5XiiIua"
   },
   "outputs": [
    {
     "data": {
      "text/html": [
       "<div>\n",
       "<style scoped>\n",
       "    .dataframe tbody tr th:only-of-type {\n",
       "        vertical-align: middle;\n",
       "    }\n",
       "\n",
       "    .dataframe tbody tr th {\n",
       "        vertical-align: top;\n",
       "    }\n",
       "\n",
       "    .dataframe thead th {\n",
       "        text-align: right;\n",
       "    }\n",
       "</style>\n",
       "<table border=\"1\" class=\"dataframe\">\n",
       "  <thead>\n",
       "    <tr style=\"text-align: right;\">\n",
       "      <th></th>\n",
       "      <th>n24</th>\n",
       "      <th>rev24</th>\n",
       "      <th>revlast</th>\n",
       "      <th>elpsdm</th>\n",
       "      <th>ordfreq</th>\n",
       "      <th>ordcat</th>\n",
       "      <th>prediction</th>\n",
       "    </tr>\n",
       "  </thead>\n",
       "  <tbody>\n",
       "    <tr>\n",
       "      <th>0</th>\n",
       "      <td>1.609438</td>\n",
       "      <td>5.225747</td>\n",
       "      <td>2.890372</td>\n",
       "      <td>24</td>\n",
       "      <td>0.000000</td>\n",
       "      <td>6</td>\n",
       "      <td>0</td>\n",
       "    </tr>\n",
       "    <tr>\n",
       "      <th>1</th>\n",
       "      <td>0.693147</td>\n",
       "      <td>3.401197</td>\n",
       "      <td>2.708050</td>\n",
       "      <td>24</td>\n",
       "      <td>0.000000</td>\n",
       "      <td>6</td>\n",
       "      <td>0</td>\n",
       "    </tr>\n",
       "    <tr>\n",
       "      <th>2</th>\n",
       "      <td>3.178054</td>\n",
       "      <td>5.891644</td>\n",
       "      <td>3.401197</td>\n",
       "      <td>24</td>\n",
       "      <td>0.000000</td>\n",
       "      <td>7</td>\n",
       "      <td>0</td>\n",
       "    </tr>\n",
       "    <tr>\n",
       "      <th>3</th>\n",
       "      <td>1.386294</td>\n",
       "      <td>3.713572</td>\n",
       "      <td>2.708050</td>\n",
       "      <td>24</td>\n",
       "      <td>0.000000</td>\n",
       "      <td>6</td>\n",
       "      <td>0</td>\n",
       "    </tr>\n",
       "    <tr>\n",
       "      <th>4</th>\n",
       "      <td>1.609438</td>\n",
       "      <td>4.077537</td>\n",
       "      <td>2.890372</td>\n",
       "      <td>24</td>\n",
       "      <td>0.000000</td>\n",
       "      <td>6</td>\n",
       "      <td>0</td>\n",
       "    </tr>\n",
       "    <tr>\n",
       "      <th>...</th>\n",
       "      <td>...</td>\n",
       "      <td>...</td>\n",
       "      <td>...</td>\n",
       "      <td>...</td>\n",
       "      <td>...</td>\n",
       "      <td>...</td>\n",
       "      <td>...</td>\n",
       "    </tr>\n",
       "    <tr>\n",
       "      <th>1995</th>\n",
       "      <td>2.197225</td>\n",
       "      <td>5.105945</td>\n",
       "      <td>-13.815511</td>\n",
       "      <td>1</td>\n",
       "      <td>0.000000</td>\n",
       "      <td>7</td>\n",
       "      <td>1</td>\n",
       "    </tr>\n",
       "    <tr>\n",
       "      <th>1996</th>\n",
       "      <td>2.397895</td>\n",
       "      <td>5.003946</td>\n",
       "      <td>2.708050</td>\n",
       "      <td>1</td>\n",
       "      <td>1.098612</td>\n",
       "      <td>6</td>\n",
       "      <td>0</td>\n",
       "    </tr>\n",
       "    <tr>\n",
       "      <th>1997</th>\n",
       "      <td>2.890372</td>\n",
       "      <td>5.081404</td>\n",
       "      <td>2.564949</td>\n",
       "      <td>1</td>\n",
       "      <td>0.693147</td>\n",
       "      <td>5</td>\n",
       "      <td>0</td>\n",
       "    </tr>\n",
       "    <tr>\n",
       "      <th>1998</th>\n",
       "      <td>3.258097</td>\n",
       "      <td>6.056784</td>\n",
       "      <td>3.218876</td>\n",
       "      <td>1</td>\n",
       "      <td>1.386294</td>\n",
       "      <td>7</td>\n",
       "      <td>0</td>\n",
       "    </tr>\n",
       "    <tr>\n",
       "      <th>1999</th>\n",
       "      <td>2.197225</td>\n",
       "      <td>4.828314</td>\n",
       "      <td>-13.815511</td>\n",
       "      <td>1</td>\n",
       "      <td>0.000000</td>\n",
       "      <td>6</td>\n",
       "      <td>1</td>\n",
       "    </tr>\n",
       "  </tbody>\n",
       "</table>\n",
       "<p>2000 rows × 7 columns</p>\n",
       "</div>"
      ],
      "text/plain": [
       "           n24     rev24    revlast  elpsdm   ordfreq  ordcat  prediction\n",
       "0     1.609438  5.225747   2.890372      24  0.000000       6           0\n",
       "1     0.693147  3.401197   2.708050      24  0.000000       6           0\n",
       "2     3.178054  5.891644   3.401197      24  0.000000       7           0\n",
       "3     1.386294  3.713572   2.708050      24  0.000000       6           0\n",
       "4     1.609438  4.077537   2.890372      24  0.000000       6           0\n",
       "...        ...       ...        ...     ...       ...     ...         ...\n",
       "1995  2.197225  5.105945 -13.815511       1  0.000000       7           1\n",
       "1996  2.397895  5.003946   2.708050       1  1.098612       6           0\n",
       "1997  2.890372  5.081404   2.564949       1  0.693147       5           0\n",
       "1998  3.258097  6.056784   3.218876       1  1.386294       7           0\n",
       "1999  2.197225  4.828314 -13.815511       1  0.000000       6           1\n",
       "\n",
       "[2000 rows x 7 columns]"
      ]
     },
     "execution_count": 123,
     "metadata": {},
     "output_type": "execute_result"
    }
   ],
   "source": [
    "ans_df = pd.DataFrame(result_arr,columns=[\"prediction\"])\n",
    "df2 [\"prediction\"] = ans_df\n",
    "df2.to_csv(\"group01dmtest.csv\", encoding='utf-8', index=False)\n",
    "df3=pd.read_csv('group01dmtest.csv')\n",
    "df3"
   ]
  },
  {
   "cell_type": "markdown",
   "metadata": {
    "id": "-EZVMqT-fSk8"
   },
   "source": [
    "## Q12: If you were to focus on the “lapsing customers” (customers who made their last purchase 13 to 24 months ago) do you expect your model to be different? For the selected model, compare the quality of predictions for these customers relative to predictions for the others on records in the training set. Discuss your findings."
   ]
  },
  {
   "cell_type": "code",
   "execution_count": 155,
   "metadata": {
    "id": "ZpFI5xcJfSk8"
   },
   "outputs": [],
   "source": [
    "lr2=lr.copy()\n",
    "lr2 = lr2.drop(lr2[lr2.revlast < 13].index)\n",
    "lr2 = lr2.drop(lr2[lr2.revlast > 24].index)"
   ]
  },
  {
   "cell_type": "code",
   "execution_count": 161,
   "metadata": {},
   "outputs": [],
   "source": [
    "X = lr2.copy()\n",
    "X = X.drop(['id','response'], axis = 1).to_numpy()\n",
    "y = lr2['response'].to_numpy()"
   ]
  },
  {
   "cell_type": "code",
   "execution_count": 162,
   "metadata": {},
   "outputs": [
    {
     "data": {
      "text/plain": [
       "array([[  2.,  30.,  20.,  24.,   1.,   6.],\n",
       "       [ 25., 207.,  20.,  24.,   1.,   6.],\n",
       "       [  5.,  52.,  15.,  24.,   1.,   6.],\n",
       "       ...,\n",
       "       [ 22., 218.,  15.,   1.,   2.,   5.],\n",
       "       [  7.,  64.,  15.,   1.,   4.,   5.],\n",
       "       [ 12., 105.,  20.,   1.,   2.,   6.]])"
      ]
     },
     "execution_count": 162,
     "metadata": {},
     "output_type": "execute_result"
    }
   ],
   "source": [
    "X"
   ]
  },
  {
   "cell_type": "code",
   "execution_count": 163,
   "metadata": {},
   "outputs": [],
   "source": [
    "lr2.drop(['id','response'],axis=1,inplace=True)\n",
    "lr2['n24'] = np.log(lr2['n24'])\n",
    "lr2['rev24'] = np.log(lr2['rev24'])\n",
    "lr2['revlast'] = np.log(lr2['revlast'])\n",
    "lr2['ordfreq'] = np.log(lr2['ordfreq'])"
   ]
  },
  {
   "cell_type": "code",
   "execution_count": 168,
   "metadata": {},
   "outputs": [
    {
     "data": {
      "text/plain": [
       "0.7448979591836735"
      ]
     },
     "execution_count": 168,
     "metadata": {},
     "output_type": "execute_result"
    }
   ],
   "source": [
    "LR = LogisticRegression(random_state=1).fit(X, y)\n",
    "LR.score(X, y)"
   ]
  }
 ],
 "metadata": {
  "colab": {
   "collapsed_sections": [
    "Cb667RqtfSks",
    "KSFKf6KkfSkw",
    "yjodtcx6fSkz",
    "LvF8JkpLfSk1"
   ],
   "provenance": []
  },
  "kernelspec": {
   "display_name": "Python 3",
   "language": "python",
   "name": "python3"
  },
  "language_info": {
   "codemirror_mode": {
    "name": "ipython",
    "version": 3
   },
   "file_extension": ".py",
   "mimetype": "text/x-python",
   "name": "python",
   "nbconvert_exporter": "python",
   "pygments_lexer": "ipython3",
   "version": "3.8.3"
  }
 },
 "nbformat": 4,
 "nbformat_minor": 1
}
